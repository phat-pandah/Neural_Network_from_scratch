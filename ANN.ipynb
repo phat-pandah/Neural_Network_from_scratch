{
 "cells": [
  {
   "cell_type": "code",
   "execution_count": 1,
   "source": [
    "import numpy as np\r\n",
    "import matplotlib.pyplot as plt\r\n",
    "import time\r\n",
    "\r\n",
    "print('Import successful!!!')"
   ],
   "outputs": [
    {
     "output_type": "stream",
     "name": "stdout",
     "text": [
      "Import successful!!!\n"
     ]
    }
   ],
   "metadata": {}
  },
  {
   "cell_type": "code",
   "execution_count": 2,
   "source": [
    "class DeepNeuralNetwork():\r\n",
    "    def __init__(self, sizes, epochs=10, learn_rate=0.001):\r\n",
    "        self.sizes = sizes\r\n",
    "        self.epochs = epochs\r\n",
    "        self.learn_rate = learn_rate\r\n",
    "\r\n",
    "        # we save all parameters in the neural network in this dictionary\r\n",
    "        self.params = self.initialization()\r\n",
    "\r\n",
    "    # Activation function for hidden layers\r\n",
    "    def sigmoid(self, x, deriv=False):\r\n",
    "        if deriv:\r\n",
    "            return (np.exp(-x))/((np.exp(-x)+1)**2)\r\n",
    "        return 1/(1 + np.exp(-x))\r\n",
    "\r\n",
    "    # Activation function for output layer\r\n",
    "    def softmax(self, x, deriv=False):\r\n",
    "        # Numerically stable with large exponentials\r\n",
    "        exps = np.exp(x - x.max())\r\n",
    "        if deriv:\r\n",
    "            return exps / np.sum(exps, axis=0) * (1 - exps / np.sum(exps, axis=0))\r\n",
    "        return exps / np.sum(exps, axis=0)\r\n",
    "\r\n",
    "    def initialization(self):\r\n",
    "        # number of nodes in each layer\r\n",
    "        input_layer = self.sizes[0]\r\n",
    "        hidden_1 = self.sizes[1]\r\n",
    "        hidden_2 = self.sizes[2]\r\n",
    "        output_layer = self.sizes[3]\r\n",
    "\r\n",
    "        params = {\r\n",
    "            'W1': np.random.randn(hidden_1, input_layer) * np.sqrt(1. / hidden_1),\r\n",
    "            'W2': np.random.randn(hidden_2, hidden_1) * np.sqrt(1. / hidden_2),\r\n",
    "            'W3': np.random.randn(output_layer, hidden_2) * np.sqrt(1. / output_layer)\r\n",
    "        }\r\n",
    "\r\n",
    "        return params\r\n",
    "\r\n",
    "    # Propagate input through network\r\n",
    "    def forward_propagation(self, x_train):\r\n",
    "        params = self.params\r\n",
    "\r\n",
    "        # input layer activations becomes sample\r\n",
    "        params['A0'] = x_train\r\n",
    "\r\n",
    "        # input layer to hidden layer 1\r\n",
    "        params['Z1'] = np.dot(params['W1'], params['A0'])\r\n",
    "        params['A1'] = self.sigmoid(params['Z1'])\r\n",
    "\r\n",
    "        # hidden layer 1 to hidden layer 2\r\n",
    "        params['Z2'] = np.dot(params[\"W2\"], params['A1'])\r\n",
    "        params['A2'] = self.sigmoid(params['Z2'])\r\n",
    "\r\n",
    "        # hidden layer 2 to output layer\r\n",
    "        params['Z3'] = np.dot(params[\"W3\"], params['A2'])\r\n",
    "        params['A3'] = self.softmax(params['Z3'])\r\n",
    "\r\n",
    "        return params['A3']\r\n",
    "\r\n",
    "    def backward_propagation(self, y_train, output):\r\n",
    "\r\n",
    "        params = self.params\r\n",
    "        w_change = {}\r\n",
    "\r\n",
    "        # Calculate W3 update\r\n",
    "        error = 2 * (output - y_train) / \\\r\n",
    "            output.shape[0] * self.softmax(params['Z3'], deriv=True)\r\n",
    "        w_change['W3'] = np.outer(error, params['A2'])\r\n",
    "\r\n",
    "        # Calculate W2 update\r\n",
    "        error = np.dot(params['W3'].T, error) * \\\r\n",
    "            self.sigmoid(params['Z2'], deriv=True)\r\n",
    "        w_change['W2'] = np.outer(error, params['A1'])\r\n",
    "\r\n",
    "        # Calculate W1 update\r\n",
    "        error = np.dot(params['W2'].T, error) * \\\r\n",
    "            self.sigmoid(params['Z1'], deriv=True)\r\n",
    "        w_change['W1'] = np.outer(error, params['A0'])\r\n",
    "\r\n",
    "        return w_change\r\n",
    "\r\n",
    "    # ALgorithm to minimize objective funtion\r\n",
    "    def gradient_descent(self, changes_to_w):\r\n",
    "        for key, value in changes_to_w.items():\r\n",
    "            self.params[key] -= self.learn_rate * value\r\n",
    "\r\n",
    "    def compute_accuracy(self, x_val, y_val):\r\n",
    "\r\n",
    "        predictions = []\r\n",
    "\r\n",
    "        for x, y in zip(x_val, y_val):\r\n",
    "            output = self.forward_propagation(x)\r\n",
    "            pred = np.argmax(output)\r\n",
    "            predictions.append(pred == np.argmax(y))\r\n",
    "\r\n",
    "        return np.mean(predictions)\r\n",
    "\r\n",
    "    def train(self, x_train, y_train, x_val, y_val):\r\n",
    "        start_time = time.time()\r\n",
    "        for iteration in range(self.epochs):\r\n",
    "            epoch_time = time.time()\r\n",
    "            for x, y in zip(x_train, y_train):\r\n",
    "                output = self.forward_propagation(x)\r\n",
    "                changes_to_w = self.backward_propagation(y, output)\r\n",
    "                self.gradient_descent(changes_to_w)\r\n",
    "\r\n",
    "            accuracy = self.compute_accuracy(x_val, y_val)\r\n",
    "            etime = time.time() - epoch_time\r\n",
    "            ttime = (time.time() - start_time) / 60\r\n",
    "            print(\r\n",
    "                f'Epoch: {iteration + 1} / {self.epochs}, Epoch Train Time: {etime:.2f}s, Total Time: {ttime:.2f}m, Accuracy: {accuracy*100:.2f} ')\r\n",
    "            #print('Epoch: {0}, Time Spent: {1:.2f}s, Accuracy: {2:.2f}%'.format(iteration+1, time.time() - start_time, accuracy * 100))\r\n",
    "\r\n",
    "    def predict(self, X):\r\n",
    "        out = self.forward_propagation(X)\r\n",
    "        return np.argmax(out)\r\n"
   ],
   "outputs": [],
   "metadata": {}
  },
  {
   "cell_type": "markdown",
   "source": [
    "## Test Using MNIST dataset\r\n",
    "\r\n",
    "WE will test the neural network using the MNIST data set. This dataset contains 60 000 grayscale images that are 28 x 28 pixels, which consist of handwritten digits (0 to 10). We will flatten the images before inputting them into the network. So the input layer will a rank 1 tensor of length 728."
   ],
   "metadata": {}
  },
  {
   "cell_type": "code",
   "execution_count": 3,
   "source": [
    "from sklearn.datasets import fetch_openml\r\n",
    "from tensorflow.keras.utils import to_categorical\r\n",
    "from sklearn.model_selection import train_test_split\r\n",
    "\r\n",
    "# import dataset and prepare to feed it to network\r\n",
    "x, y = fetch_openml('mnist_784', version=1, return_X_y=True)\r\n",
    "x = (x/255).astype('float32')\r\n",
    "y = to_categorical(y)\r\n",
    "\r\n",
    "# split data\r\n",
    "X_train, x_val, y_train, y_val = train_test_split(x, y, test_size=.10, random_state= 42)\r\n",
    "\r\n",
    "# Train the network\r\n",
    "DNN = dnn = DeepNeuralNetwork(sizes=[784, 128, 64, 10], epochs=10, learn_rate=0.01)\r\n",
    "DNN.train(X_train.values, y_train, x_val.values, y_val)"
   ],
   "outputs": [
    {
     "output_type": "stream",
     "name": "stdout",
     "text": [
      "Epoch: 1 / 10, Epoch Train Time: 46.78s, Total Time: 0.78m, Accuracy: 51.46 \n",
      "Epoch: 2 / 10, Epoch Train Time: 48.50s, Total Time: 1.59m, Accuracy: 66.44 \n",
      "Epoch: 3 / 10, Epoch Train Time: 52.47s, Total Time: 2.46m, Accuracy: 71.89 \n",
      "Epoch: 4 / 10, Epoch Train Time: 56.31s, Total Time: 3.40m, Accuracy: 76.23 \n",
      "Epoch: 5 / 10, Epoch Train Time: 58.71s, Total Time: 4.38m, Accuracy: 77.67 \n",
      "Epoch: 6 / 10, Epoch Train Time: 48.82s, Total Time: 5.19m, Accuracy: 77.64 \n",
      "Epoch: 7 / 10, Epoch Train Time: 53.59s, Total Time: 6.09m, Accuracy: 77.67 \n",
      "Epoch: 8 / 10, Epoch Train Time: 55.06s, Total Time: 7.00m, Accuracy: 78.47 \n",
      "Epoch: 9 / 10, Epoch Train Time: 59.87s, Total Time: 8.00m, Accuracy: 79.17 \n",
      "Epoch: 10 / 10, Epoch Train Time: 47.34s, Total Time: 8.79m, Accuracy: 79.80 \n"
     ]
    }
   ],
   "metadata": {}
  },
  {
   "cell_type": "code",
   "execution_count": 5,
   "source": [
    "nn1 = dnn = DeepNeuralNetwork(sizes=[784, 128, 64, 10], epochs=5, learn_rate=0.01)\r\n",
    "nn1.train(X_train.values, y_train, x_val.values, y_val)"
   ],
   "outputs": [],
   "metadata": {}
  },
  {
   "cell_type": "code",
   "execution_count": 28,
   "source": [
    "X = x.values\r\n",
    "samples = X[1100:1109]\r\n",
    "\r\n",
    "fig, ax = plt.subplots(nrows=3, ncols=3, figsize=(10,10))\r\n",
    "ax[0][0].imshow(samples[0].reshape(28, 28), cmap='gray')\r\n",
    "ax[0][1].imshow(samples[1].reshape(28, 28), cmap='gray')\r\n",
    "ax[0][2].imshow(samples[2].reshape(28, 28), cmap='gray')\r\n",
    "ax[1][0].imshow(samples[3].reshape(28, 28), cmap='gray')\r\n",
    "ax[1][1].imshow(samples[4].reshape(28, 28), cmap='gray')\r\n",
    "ax[1][2].imshow(samples[5].reshape(28, 28), cmap='gray')\r\n",
    "ax[2][0].imshow(samples[6].reshape(28, 28), cmap='gray')\r\n",
    "ax[2][1].imshow(samples[7].reshape(28, 28), cmap='gray')\r\n",
    "ax[2][2].imshow(samples[8].reshape(28, 28), cmap='gray')\r\n",
    "\r\n",
    "for i in range(3):\r\n",
    "    for j in range(3):\r\n",
    "        ax[i][j].axes.xaxis.set_visible(False)\r\n",
    "        ax[i][j].axes.yaxis.set_visible(False)\r\n",
    "\r\n",
    "plt.show()"
   ],
   "outputs": [
    {
     "output_type": "display_data",
     "data": {
      "text/plain": [
       "<Figure size 720x720 with 9 Axes>"
      ],
      "image/png": "[encoded data removed]"
     },
     "metadata": {
      "needs_background": "light"
     }
    }
   ],
   "metadata": {}
  },
  {
   "cell_type": "code",
   "execution_count": 43,
   "source": [
    "expected_num = [6, 8, 0, 9, 5, 8, 7, 0, 3]\r\n",
    "\r\n",
    "for i, image in enumerate(samples):\r\n",
    "    prediction = DNN.predict(image)\r\n",
    "    if prediction == expected_num[i]:\r\n",
    "        correct = \" Correct Prediction  :D\"\r\n",
    "    else:\r\n",
    "        correct = \"Incorect Prediction  :(\"\r\n",
    "    print(f'Number in image is: {expected_num[i]}, The predicted number is {prediction} ' + correct)"
   ],
   "outputs": [
    {
     "output_type": "stream",
     "name": "stdout",
     "text": [
      "Number in image is: 6, The predicted number is 6  Correct Prediction  :D\n",
      "Number in image is: 8, The predicted number is 8  Correct Prediction  :D\n",
      "Number in image is: 0, The predicted number is 0  Correct Prediction  :D\n",
      "Number in image is: 9, The predicted number is 9  Correct Prediction  :D\n",
      "Number in image is: 5, The predicted number is 8 Incorect Prediction  :(\n",
      "Number in image is: 8, The predicted number is 8  Correct Prediction  :D\n",
      "Number in image is: 7, The predicted number is 7  Correct Prediction  :D\n",
      "Number in image is: 0, The predicted number is 0  Correct Prediction  :D\n",
      "Number in image is: 3, The predicted number is 3  Correct Prediction  :D\n"
     ]
    }
   ],
   "metadata": {}
  },
  {
   "cell_type": "code",
   "execution_count": null,
   "source": [],
   "outputs": [],
   "metadata": {}
  }
 ],
 "metadata": {
  "orig_nbformat": 4,
  "language_info": {
   "name": "python"
  }
 },
 "nbformat": 4,
 "nbformat_minor": 2
}